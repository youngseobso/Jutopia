version https://git-lfs.github.com/spec/v1
oid sha256:8092099835cf9b6c5de81e267a699ccbf2153bc218a7b9ff268e85a60ec4af04
size 17616
